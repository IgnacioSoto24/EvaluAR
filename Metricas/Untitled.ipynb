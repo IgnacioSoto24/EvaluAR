{
 "cells": [
  {
   "cell_type": "code",
   "execution_count": 1,
   "id": "f5ca2a51-0bf6-4ed2-a999-296f782cb99d",
   "metadata": {},
   "outputs": [
    {
     "name": "stdout",
     "output_type": "stream",
     "text": [
      "Collecting ragas\n",
      "  Downloading ragas-0.3.2-py3-none-any.whl.metadata (21 kB)\n",
      "Collecting datasets\n",
      "  Downloading datasets-4.0.0-py3-none-any.whl.metadata (19 kB)\n",
      "Collecting evaluate\n",
      "  Downloading evaluate-0.4.5-py3-none-any.whl.metadata (9.5 kB)\n",
      "Requirement already satisfied: langchain in c:\\users\\bakug\\anaconda3\\lib\\site-packages (0.3.25)\n",
      "Requirement already satisfied: faiss-cpu in c:\\users\\bakug\\anaconda3\\lib\\site-packages (1.10.0)\n",
      "Requirement already satisfied: numpy in c:\\users\\bakug\\anaconda3\\lib\\site-packages (from ragas) (1.26.4)\n",
      "Requirement already satisfied: tiktoken in c:\\users\\bakug\\anaconda3\\lib\\site-packages (from ragas) (0.9.0)\n",
      "Requirement already satisfied: pydantic>=2.0.0 in c:\\users\\bakug\\anaconda3\\lib\\site-packages (from ragas) (2.8.2)\n",
      "Requirement already satisfied: nest-asyncio in c:\\users\\bakug\\anaconda3\\lib\\site-packages (from ragas) (1.6.0)\n",
      "Requirement already satisfied: appdirs in c:\\users\\bakug\\anaconda3\\lib\\site-packages (from ragas) (1.4.4)\n",
      "Collecting diskcache>=5.6.3 (from ragas)\n",
      "  Downloading diskcache-5.6.3-py3-none-any.whl.metadata (20 kB)\n",
      "Requirement already satisfied: langchain-core in c:\\users\\bakug\\anaconda3\\lib\\site-packages (from ragas) (0.3.58)\n",
      "Requirement already satisfied: langchain-community in c:\\users\\bakug\\anaconda3\\lib\\site-packages (from ragas) (0.3.23)\n",
      "Requirement already satisfied: langchain_openai in c:\\users\\bakug\\anaconda3\\lib\\site-packages (from ragas) (0.3.12)\n",
      "Requirement already satisfied: typer in c:\\users\\bakug\\anaconda3\\lib\\site-packages (from ragas) (0.9.0)\n",
      "Requirement already satisfied: rich in c:\\users\\bakug\\anaconda3\\lib\\site-packages (from ragas) (13.7.1)\n",
      "Requirement already satisfied: openai>=1.0.0 in c:\\users\\bakug\\anaconda3\\lib\\site-packages (from ragas) (1.72.0)\n",
      "Requirement already satisfied: tqdm in c:\\users\\bakug\\anaconda3\\lib\\site-packages (from ragas) (4.66.5)\n",
      "Collecting instructor (from ragas)\n",
      "  Downloading instructor-1.10.0-py3-none-any.whl.metadata (11 kB)\n",
      "Requirement already satisfied: gitpython in c:\\users\\bakug\\anaconda3\\lib\\site-packages (from ragas) (3.1.43)\n",
      "Requirement already satisfied: pillow>=10.4.0 in c:\\users\\bakug\\anaconda3\\lib\\site-packages (from ragas) (10.4.0)\n",
      "Requirement already satisfied: filelock in c:\\users\\bakug\\anaconda3\\lib\\site-packages (from datasets) (3.13.1)\n",
      "Requirement already satisfied: pyarrow>=15.0.0 in c:\\users\\bakug\\anaconda3\\lib\\site-packages (from datasets) (16.1.0)\n",
      "Requirement already satisfied: dill<0.3.9,>=0.3.0 in c:\\users\\bakug\\anaconda3\\lib\\site-packages (from datasets) (0.3.8)\n",
      "Requirement already satisfied: pandas in c:\\users\\bakug\\anaconda3\\lib\\site-packages (from datasets) (2.2.2)\n",
      "Requirement already satisfied: requests>=2.32.2 in c:\\users\\bakug\\anaconda3\\lib\\site-packages (from datasets) (2.32.3)\n",
      "Requirement already satisfied: xxhash in c:\\users\\bakug\\anaconda3\\lib\\site-packages (from datasets) (3.5.0)\n",
      "Collecting multiprocess<0.70.17 (from datasets)\n",
      "  Downloading multiprocess-0.70.16-py312-none-any.whl.metadata (7.2 kB)\n",
      "Requirement already satisfied: fsspec<=2025.3.0,>=2023.1.0 in c:\\users\\bakug\\anaconda3\\lib\\site-packages (from fsspec[http]<=2025.3.0,>=2023.1.0->datasets) (2024.6.1)\n",
      "Requirement already satisfied: huggingface-hub>=0.24.0 in c:\\users\\bakug\\anaconda3\\lib\\site-packages (from datasets) (0.30.2)\n",
      "Requirement already satisfied: packaging in c:\\users\\bakug\\anaconda3\\lib\\site-packages (from datasets) (24.1)\n",
      "Requirement already satisfied: pyyaml>=5.1 in c:\\users\\bakug\\anaconda3\\lib\\site-packages (from datasets) (6.0.1)\n",
      "Requirement already satisfied: langchain-text-splitters<1.0.0,>=0.3.8 in c:\\users\\bakug\\anaconda3\\lib\\site-packages (from langchain) (0.3.8)\n",
      "Requirement already satisfied: langsmith<0.4,>=0.1.17 in c:\\users\\bakug\\anaconda3\\lib\\site-packages (from langchain) (0.3.27)\n",
      "Requirement already satisfied: SQLAlchemy<3,>=1.4 in c:\\users\\bakug\\anaconda3\\lib\\site-packages (from langchain) (2.0.34)\n",
      "Requirement already satisfied: aiohttp!=4.0.0a0,!=4.0.0a1 in c:\\users\\bakug\\anaconda3\\lib\\site-packages (from fsspec[http]<=2025.3.0,>=2023.1.0->datasets) (3.10.5)\n",
      "Requirement already satisfied: typing-extensions>=3.7.4.3 in c:\\users\\bakug\\anaconda3\\lib\\site-packages (from huggingface-hub>=0.24.0->datasets) (4.11.0)\n",
      "Requirement already satisfied: tenacity!=8.4.0,<10.0.0,>=8.1.0 in c:\\users\\bakug\\anaconda3\\lib\\site-packages (from langchain-core->ragas) (8.2.3)\n",
      "Requirement already satisfied: jsonpatch<2.0,>=1.33 in c:\\users\\bakug\\anaconda3\\lib\\site-packages (from langchain-core->ragas) (1.33)\n",
      "Requirement already satisfied: httpx<1,>=0.23.0 in c:\\users\\bakug\\anaconda3\\lib\\site-packages (from langsmith<0.4,>=0.1.17->langchain) (0.27.0)\n",
      "Requirement already satisfied: orjson<4.0.0,>=3.9.14 in c:\\users\\bakug\\anaconda3\\lib\\site-packages (from langsmith<0.4,>=0.1.17->langchain) (3.10.16)\n",
      "Requirement already satisfied: requests-toolbelt<2.0.0,>=1.0.0 in c:\\users\\bakug\\anaconda3\\lib\\site-packages (from langsmith<0.4,>=0.1.17->langchain) (1.0.0)\n",
      "Requirement already satisfied: zstandard<0.24.0,>=0.23.0 in c:\\users\\bakug\\anaconda3\\lib\\site-packages (from langsmith<0.4,>=0.1.17->langchain) (0.23.0)\n",
      "Requirement already satisfied: anyio<5,>=3.5.0 in c:\\users\\bakug\\anaconda3\\lib\\site-packages (from openai>=1.0.0->ragas) (4.2.0)\n",
      "Requirement already satisfied: distro<2,>=1.7.0 in c:\\users\\bakug\\anaconda3\\lib\\site-packages (from openai>=1.0.0->ragas) (1.9.0)\n",
      "Requirement already satisfied: jiter<1,>=0.4.0 in c:\\users\\bakug\\anaconda3\\lib\\site-packages (from openai>=1.0.0->ragas) (0.9.0)\n",
      "Requirement already satisfied: sniffio in c:\\users\\bakug\\anaconda3\\lib\\site-packages (from openai>=1.0.0->ragas) (1.3.0)\n",
      "Requirement already satisfied: annotated-types>=0.4.0 in c:\\users\\bakug\\anaconda3\\lib\\site-packages (from pydantic>=2.0.0->ragas) (0.6.0)\n",
      "Requirement already satisfied: pydantic-core==2.20.1 in c:\\users\\bakug\\anaconda3\\lib\\site-packages (from pydantic>=2.0.0->ragas) (2.20.1)\n",
      "Requirement already satisfied: charset-normalizer<4,>=2 in c:\\users\\bakug\\anaconda3\\lib\\site-packages (from requests>=2.32.2->datasets) (3.3.2)\n",
      "Requirement already satisfied: idna<4,>=2.5 in c:\\users\\bakug\\anaconda3\\lib\\site-packages (from requests>=2.32.2->datasets) (3.7)\n",
      "Requirement already satisfied: urllib3<3,>=1.21.1 in c:\\users\\bakug\\anaconda3\\lib\\site-packages (from requests>=2.32.2->datasets) (2.2.3)\n",
      "Requirement already satisfied: certifi>=2017.4.17 in c:\\users\\bakug\\anaconda3\\lib\\site-packages (from requests>=2.32.2->datasets) (2025.1.31)\n",
      "Requirement already satisfied: greenlet!=0.4.17 in c:\\users\\bakug\\anaconda3\\lib\\site-packages (from SQLAlchemy<3,>=1.4->langchain) (3.0.1)\n",
      "Requirement already satisfied: colorama in c:\\users\\bakug\\anaconda3\\lib\\site-packages (from tqdm->ragas) (0.4.6)\n",
      "Requirement already satisfied: gitdb<5,>=4.0.1 in c:\\users\\bakug\\anaconda3\\lib\\site-packages (from gitpython->ragas) (4.0.7)\n",
      "Collecting docstring-parser<1.0,>=0.16 (from instructor->ragas)\n",
      "  Downloading docstring_parser-0.17.0-py3-none-any.whl.metadata (3.5 kB)\n",
      "Requirement already satisfied: jinja2<4.0.0,>=3.1.4 in c:\\users\\bakug\\anaconda3\\lib\\site-packages (from instructor->ragas) (3.1.4)\n",
      "Requirement already satisfied: markdown-it-py>=2.2.0 in c:\\users\\bakug\\anaconda3\\lib\\site-packages (from rich->ragas) (2.2.0)\n",
      "Requirement already satisfied: pygments<3.0.0,>=2.13.0 in c:\\users\\bakug\\anaconda3\\lib\\site-packages (from rich->ragas) (2.15.1)\n",
      "Requirement already satisfied: click<9.0.0,>=7.1.1 in c:\\users\\bakug\\anaconda3\\lib\\site-packages (from typer->ragas) (8.1.7)\n",
      "Requirement already satisfied: dataclasses-json<0.7,>=0.5.7 in c:\\users\\bakug\\anaconda3\\lib\\site-packages (from langchain-community->ragas) (0.6.7)\n",
      "Requirement already satisfied: pydantic-settings<3.0.0,>=2.4.0 in c:\\users\\bakug\\anaconda3\\lib\\site-packages (from langchain-community->ragas) (2.6.1)\n",
      "Requirement already satisfied: httpx-sse<1.0.0,>=0.4.0 in c:\\users\\bakug\\anaconda3\\lib\\site-packages (from langchain-community->ragas) (0.4.0)\n",
      "Requirement already satisfied: regex>=2022.1.18 in c:\\users\\bakug\\anaconda3\\lib\\site-packages (from tiktoken->ragas) (2024.9.11)\n",
      "Requirement already satisfied: python-dateutil>=2.8.2 in c:\\users\\bakug\\anaconda3\\lib\\site-packages (from pandas->datasets) (2.9.0.post0)\n",
      "Requirement already satisfied: pytz>=2020.1 in c:\\users\\bakug\\anaconda3\\lib\\site-packages (from pandas->datasets) (2024.1)\n",
      "Requirement already satisfied: tzdata>=2022.7 in c:\\users\\bakug\\anaconda3\\lib\\site-packages (from pandas->datasets) (2023.3)\n",
      "Requirement already satisfied: aiohappyeyeballs>=2.3.0 in c:\\users\\bakug\\anaconda3\\lib\\site-packages (from aiohttp!=4.0.0a0,!=4.0.0a1->fsspec[http]<=2025.3.0,>=2023.1.0->datasets) (2.4.0)\n",
      "Requirement already satisfied: aiosignal>=1.1.2 in c:\\users\\bakug\\anaconda3\\lib\\site-packages (from aiohttp!=4.0.0a0,!=4.0.0a1->fsspec[http]<=2025.3.0,>=2023.1.0->datasets) (1.2.0)\n",
      "Requirement already satisfied: attrs>=17.3.0 in c:\\users\\bakug\\anaconda3\\lib\\site-packages (from aiohttp!=4.0.0a0,!=4.0.0a1->fsspec[http]<=2025.3.0,>=2023.1.0->datasets) (25.3.0)\n",
      "Requirement already satisfied: frozenlist>=1.1.1 in c:\\users\\bakug\\anaconda3\\lib\\site-packages (from aiohttp!=4.0.0a0,!=4.0.0a1->fsspec[http]<=2025.3.0,>=2023.1.0->datasets) (1.4.0)\n",
      "Requirement already satisfied: multidict<7.0,>=4.5 in c:\\users\\bakug\\anaconda3\\lib\\site-packages (from aiohttp!=4.0.0a0,!=4.0.0a1->fsspec[http]<=2025.3.0,>=2023.1.0->datasets) (6.0.4)\n",
      "Requirement already satisfied: yarl<2.0,>=1.0 in c:\\users\\bakug\\anaconda3\\lib\\site-packages (from aiohttp!=4.0.0a0,!=4.0.0a1->fsspec[http]<=2025.3.0,>=2023.1.0->datasets) (1.11.0)\n",
      "Requirement already satisfied: marshmallow<4.0.0,>=3.18.0 in c:\\users\\bakug\\anaconda3\\lib\\site-packages (from dataclasses-json<0.7,>=0.5.7->langchain-community->ragas) (3.26.1)\n",
      "Requirement already satisfied: typing-inspect<1,>=0.4.0 in c:\\users\\bakug\\anaconda3\\lib\\site-packages (from dataclasses-json<0.7,>=0.5.7->langchain-community->ragas) (0.9.0)\n",
      "Requirement already satisfied: smmap<5,>=3.0.1 in c:\\users\\bakug\\anaconda3\\lib\\site-packages (from gitdb<5,>=4.0.1->gitpython->ragas) (4.0.0)\n",
      "Requirement already satisfied: httpcore==1.* in c:\\users\\bakug\\anaconda3\\lib\\site-packages (from httpx<1,>=0.23.0->langsmith<0.4,>=0.1.17->langchain) (1.0.2)\n",
      "Requirement already satisfied: h11<0.15,>=0.13 in c:\\users\\bakug\\anaconda3\\lib\\site-packages (from httpcore==1.*->httpx<1,>=0.23.0->langsmith<0.4,>=0.1.17->langchain) (0.14.0)\n",
      "Requirement already satisfied: MarkupSafe>=2.0 in c:\\users\\bakug\\anaconda3\\lib\\site-packages (from jinja2<4.0.0,>=3.1.4->instructor->ragas) (2.1.3)\n",
      "Requirement already satisfied: jsonpointer>=1.9 in c:\\users\\bakug\\anaconda3\\lib\\site-packages (from jsonpatch<2.0,>=1.33->langchain-core->ragas) (2.1)\n",
      "Requirement already satisfied: mdurl~=0.1 in c:\\users\\bakug\\anaconda3\\lib\\site-packages (from markdown-it-py>=2.2.0->rich->ragas) (0.1.0)\n",
      "Requirement already satisfied: python-dotenv>=0.21.0 in c:\\users\\bakug\\anaconda3\\lib\\site-packages (from pydantic-settings<3.0.0,>=2.4.0->langchain-community->ragas) (0.21.0)\n",
      "Requirement already satisfied: six>=1.5 in c:\\users\\bakug\\anaconda3\\lib\\site-packages (from python-dateutil>=2.8.2->pandas->datasets) (1.16.0)\n",
      "Requirement already satisfied: mypy-extensions>=0.3.0 in c:\\users\\bakug\\anaconda3\\lib\\site-packages (from typing-inspect<1,>=0.4.0->dataclasses-json<0.7,>=0.5.7->langchain-community->ragas) (1.0.0)\n",
      "Downloading ragas-0.3.2-py3-none-any.whl (277 kB)\n",
      "Downloading datasets-4.0.0-py3-none-any.whl (494 kB)\n",
      "Downloading evaluate-0.4.5-py3-none-any.whl (84 kB)\n",
      "Downloading diskcache-5.6.3-py3-none-any.whl (45 kB)\n",
      "Downloading multiprocess-0.70.16-py312-none-any.whl (146 kB)\n",
      "Downloading instructor-1.10.0-py3-none-any.whl (119 kB)\n",
      "Downloading docstring_parser-0.17.0-py3-none-any.whl (36 kB)\n",
      "Installing collected packages: multiprocess, docstring-parser, diskcache, instructor, datasets, evaluate, ragas\n",
      "Successfully installed datasets-4.0.0 diskcache-5.6.3 docstring-parser-0.17.0 evaluate-0.4.5 instructor-1.10.0 multiprocess-0.70.16 ragas-0.3.2\n",
      "Note: you may need to restart the kernel to use updated packages.\n"
     ]
    }
   ],
   "source": [
    "pip install ragas datasets evaluate langchain faiss-cpu\n"
   ]
  },
  {
   "cell_type": "code",
   "execution_count": 1,
   "id": "dea58cc1-e3c6-43ec-8eb1-f0a5e3045466",
   "metadata": {},
   "outputs": [
    {
     "name": "stdout",
     "output_type": "stream",
     "text": [
      "Total ejemplos: 11873\n"
     ]
    }
   ],
   "source": [
    "from datasets import load_dataset\n",
    "import json\n",
    "\n",
    "ruta_dataset = r\"C:\\Users\\bakug\\OneDrive\\Documentos\\Metricas\\dev-v2.0.json\"\n",
    "\n",
    "with open(ruta_dataset, 'r', encoding='utf-8') as f:\n",
    "    squad_data = json.load(f)\n",
    "\n",
    "data_list = []\n",
    "for article in squad_data['data']:\n",
    "    for paragraph in article['paragraphs']:\n",
    "        context = paragraph['context']\n",
    "        for qa in paragraph['qas']:\n",
    "            question = qa['question']\n",
    "            answers = [ans['text'] for ans in qa['answers']]\n",
    "            data_list.append({\n",
    "                \"question\": question,\n",
    "                \"context\": context,\n",
    "                \"answers\": answers\n",
    "            })\n",
    "\n",
    "print(f\"Total ejemplos: {len(data_list)}\")"
   ]
  },
  {
   "cell_type": "code",
   "execution_count": 3,
   "id": "2920fb5d-65b5-4014-a31e-dbccd3381c0d",
   "metadata": {},
   "outputs": [],
   "source": [
    "import random\n",
    "sample_data = random.sample(data_list, 100)"
   ]
  },
  {
   "cell_type": "code",
   "execution_count": 5,
   "id": "d3a4c7f9-0956-47b9-a47c-57c654e0015a",
   "metadata": {},
   "outputs": [
    {
     "name": "stdout",
     "output_type": "stream",
     "text": [
      "Ejemplos usados: 55\n",
      "                                            question        ground_truth  \\\n",
      "0                   What was the topic of the error?  Himalayan glaciers   \n",
      "1  What is the expression used to denote a worst ...               O(n2)   \n",
      "2  What chemist managed to make enough liquid oxy...         James Dewar   \n",
      "3  Along with English and mathematics, what subje...     natural science   \n",
      "4  What is the most important type of Norman art ...             mosaics   \n",
      "\n",
      "                                            contexts              answer  \n",
      "0  [Former IPCC chairman Robert Watson has said \"...  Himalayan glaciers  \n",
      "1  [For example, consider the deterministic sorti...               O(n2)  \n",
      "2  [In 1891 Scottish chemist James Dewar was able...         James Dewar  \n",
      "3  [In the Philippines, the private sector has be...     natural science  \n",
      "4  [In Britain, Norman art primarily survives as ...             mosaics  \n"
     ]
    }
   ],
   "source": [
    "import pandas as pd\n",
    "\n",
    "filtered_data = [item for item in sample_data if len(item[\"answers\"]) > 0]\n",
    "\n",
    "df = pd.DataFrame([{\n",
    "    \"question\": item[\"question\"],\n",
    "    \"ground_truth\": item[\"answers\"][0],\n",
    "    \"contexts\": [item[\"context\"]],\n",
    "    \"answer\": item[\"answers\"][0]\n",
    "} for item in filtered_data])\n",
    "\n",
    "print(f\"Ejemplos usados: {len(df)}\")\n",
    "print(df.head())"
   ]
  },
  {
   "cell_type": "code",
   "execution_count": 7,
   "id": "23bcde1f-9841-41e8-9a1a-dfcf176143b8",
   "metadata": {},
   "outputs": [
    {
     "name": "stdout",
     "output_type": "stream",
     "text": [
      "Requirement already satisfied: ragas in c:\\users\\bakug\\anaconda3\\lib\\site-packages (0.3.2)\n",
      "Requirement already satisfied: numpy in c:\\users\\bakug\\anaconda3\\lib\\site-packages (from ragas) (1.26.4)\n",
      "Requirement already satisfied: datasets in c:\\users\\bakug\\anaconda3\\lib\\site-packages (from ragas) (4.0.0)\n",
      "Requirement already satisfied: tiktoken in c:\\users\\bakug\\anaconda3\\lib\\site-packages (from ragas) (0.9.0)\n",
      "Requirement already satisfied: pydantic>=2.0.0 in c:\\users\\bakug\\anaconda3\\lib\\site-packages (from ragas) (2.8.2)\n",
      "Requirement already satisfied: nest-asyncio in c:\\users\\bakug\\anaconda3\\lib\\site-packages (from ragas) (1.6.0)\n",
      "Requirement already satisfied: appdirs in c:\\users\\bakug\\anaconda3\\lib\\site-packages (from ragas) (1.4.4)\n",
      "Requirement already satisfied: diskcache>=5.6.3 in c:\\users\\bakug\\anaconda3\\lib\\site-packages (from ragas) (5.6.3)\n",
      "Requirement already satisfied: langchain in c:\\users\\bakug\\anaconda3\\lib\\site-packages (from ragas) (0.3.25)\n",
      "Requirement already satisfied: langchain-core in c:\\users\\bakug\\anaconda3\\lib\\site-packages (from ragas) (0.3.58)\n",
      "Requirement already satisfied: langchain-community in c:\\users\\bakug\\anaconda3\\lib\\site-packages (from ragas) (0.3.23)\n",
      "Requirement already satisfied: langchain_openai in c:\\users\\bakug\\anaconda3\\lib\\site-packages (from ragas) (0.3.12)\n",
      "Requirement already satisfied: typer in c:\\users\\bakug\\anaconda3\\lib\\site-packages (from ragas) (0.9.0)\n",
      "Requirement already satisfied: rich in c:\\users\\bakug\\anaconda3\\lib\\site-packages (from ragas) (13.7.1)\n",
      "Requirement already satisfied: openai>=1.0.0 in c:\\users\\bakug\\anaconda3\\lib\\site-packages (from ragas) (1.72.0)\n",
      "Requirement already satisfied: tqdm in c:\\users\\bakug\\anaconda3\\lib\\site-packages (from ragas) (4.66.5)\n",
      "Requirement already satisfied: instructor in c:\\users\\bakug\\anaconda3\\lib\\site-packages (from ragas) (1.10.0)\n",
      "Requirement already satisfied: gitpython in c:\\users\\bakug\\anaconda3\\lib\\site-packages (from ragas) (3.1.43)\n",
      "Requirement already satisfied: pillow>=10.4.0 in c:\\users\\bakug\\anaconda3\\lib\\site-packages (from ragas) (10.4.0)\n",
      "Requirement already satisfied: anyio<5,>=3.5.0 in c:\\users\\bakug\\anaconda3\\lib\\site-packages (from openai>=1.0.0->ragas) (4.2.0)\n",
      "Requirement already satisfied: distro<2,>=1.7.0 in c:\\users\\bakug\\anaconda3\\lib\\site-packages (from openai>=1.0.0->ragas) (1.9.0)\n",
      "Requirement already satisfied: httpx<1,>=0.23.0 in c:\\users\\bakug\\anaconda3\\lib\\site-packages (from openai>=1.0.0->ragas) (0.27.0)\n",
      "Requirement already satisfied: jiter<1,>=0.4.0 in c:\\users\\bakug\\anaconda3\\lib\\site-packages (from openai>=1.0.0->ragas) (0.9.0)\n",
      "Requirement already satisfied: sniffio in c:\\users\\bakug\\anaconda3\\lib\\site-packages (from openai>=1.0.0->ragas) (1.3.0)\n",
      "Requirement already satisfied: typing-extensions<5,>=4.11 in c:\\users\\bakug\\anaconda3\\lib\\site-packages (from openai>=1.0.0->ragas) (4.11.0)\n",
      "Requirement already satisfied: annotated-types>=0.4.0 in c:\\users\\bakug\\anaconda3\\lib\\site-packages (from pydantic>=2.0.0->ragas) (0.6.0)\n",
      "Requirement already satisfied: pydantic-core==2.20.1 in c:\\users\\bakug\\anaconda3\\lib\\site-packages (from pydantic>=2.0.0->ragas) (2.20.1)\n",
      "Requirement already satisfied: colorama in c:\\users\\bakug\\anaconda3\\lib\\site-packages (from tqdm->ragas) (0.4.6)\n",
      "Requirement already satisfied: filelock in c:\\users\\bakug\\anaconda3\\lib\\site-packages (from datasets->ragas) (3.13.1)\n",
      "Requirement already satisfied: pyarrow>=15.0.0 in c:\\users\\bakug\\anaconda3\\lib\\site-packages (from datasets->ragas) (16.1.0)\n",
      "Requirement already satisfied: dill<0.3.9,>=0.3.0 in c:\\users\\bakug\\anaconda3\\lib\\site-packages (from datasets->ragas) (0.3.8)\n",
      "Requirement already satisfied: pandas in c:\\users\\bakug\\anaconda3\\lib\\site-packages (from datasets->ragas) (2.2.2)\n",
      "Requirement already satisfied: requests>=2.32.2 in c:\\users\\bakug\\anaconda3\\lib\\site-packages (from datasets->ragas) (2.32.3)\n",
      "Requirement already satisfied: xxhash in c:\\users\\bakug\\anaconda3\\lib\\site-packages (from datasets->ragas) (3.5.0)\n",
      "Requirement already satisfied: multiprocess<0.70.17 in c:\\users\\bakug\\anaconda3\\lib\\site-packages (from datasets->ragas) (0.70.16)\n",
      "Requirement already satisfied: fsspec<=2025.3.0,>=2023.1.0 in c:\\users\\bakug\\anaconda3\\lib\\site-packages (from fsspec[http]<=2025.3.0,>=2023.1.0->datasets->ragas) (2024.6.1)\n",
      "Requirement already satisfied: huggingface-hub>=0.24.0 in c:\\users\\bakug\\anaconda3\\lib\\site-packages (from datasets->ragas) (0.30.2)\n",
      "Requirement already satisfied: packaging in c:\\users\\bakug\\anaconda3\\lib\\site-packages (from datasets->ragas) (24.1)\n",
      "Requirement already satisfied: pyyaml>=5.1 in c:\\users\\bakug\\anaconda3\\lib\\site-packages (from datasets->ragas) (6.0.1)\n",
      "Requirement already satisfied: gitdb<5,>=4.0.1 in c:\\users\\bakug\\anaconda3\\lib\\site-packages (from gitpython->ragas) (4.0.7)\n",
      "Requirement already satisfied: aiohttp<4.0.0,>=3.9.1 in c:\\users\\bakug\\anaconda3\\lib\\site-packages (from instructor->ragas) (3.10.5)\n",
      "Requirement already satisfied: docstring-parser<1.0,>=0.16 in c:\\users\\bakug\\anaconda3\\lib\\site-packages (from instructor->ragas) (0.17.0)\n",
      "Requirement already satisfied: jinja2<4.0.0,>=3.1.4 in c:\\users\\bakug\\anaconda3\\lib\\site-packages (from instructor->ragas) (3.1.4)\n",
      "Requirement already satisfied: tenacity<10.0.0,>=8.2.3 in c:\\users\\bakug\\anaconda3\\lib\\site-packages (from instructor->ragas) (8.2.3)\n",
      "Requirement already satisfied: markdown-it-py>=2.2.0 in c:\\users\\bakug\\anaconda3\\lib\\site-packages (from rich->ragas) (2.2.0)\n",
      "Requirement already satisfied: pygments<3.0.0,>=2.13.0 in c:\\users\\bakug\\anaconda3\\lib\\site-packages (from rich->ragas) (2.15.1)\n",
      "Requirement already satisfied: click<9.0.0,>=7.1.1 in c:\\users\\bakug\\anaconda3\\lib\\site-packages (from typer->ragas) (8.1.7)\n",
      "Requirement already satisfied: langchain-text-splitters<1.0.0,>=0.3.8 in c:\\users\\bakug\\anaconda3\\lib\\site-packages (from langchain->ragas) (0.3.8)\n",
      "Requirement already satisfied: langsmith<0.4,>=0.1.17 in c:\\users\\bakug\\anaconda3\\lib\\site-packages (from langchain->ragas) (0.3.27)\n",
      "Requirement already satisfied: SQLAlchemy<3,>=1.4 in c:\\users\\bakug\\anaconda3\\lib\\site-packages (from langchain->ragas) (2.0.34)\n",
      "Requirement already satisfied: jsonpatch<2.0,>=1.33 in c:\\users\\bakug\\anaconda3\\lib\\site-packages (from langchain-core->ragas) (1.33)\n",
      "Requirement already satisfied: dataclasses-json<0.7,>=0.5.7 in c:\\users\\bakug\\anaconda3\\lib\\site-packages (from langchain-community->ragas) (0.6.7)\n",
      "Requirement already satisfied: pydantic-settings<3.0.0,>=2.4.0 in c:\\users\\bakug\\anaconda3\\lib\\site-packages (from langchain-community->ragas) (2.6.1)\n",
      "Requirement already satisfied: httpx-sse<1.0.0,>=0.4.0 in c:\\users\\bakug\\anaconda3\\lib\\site-packages (from langchain-community->ragas) (0.4.0)\n",
      "Requirement already satisfied: regex>=2022.1.18 in c:\\users\\bakug\\anaconda3\\lib\\site-packages (from tiktoken->ragas) (2024.9.11)\n",
      "Requirement already satisfied: aiohappyeyeballs>=2.3.0 in c:\\users\\bakug\\anaconda3\\lib\\site-packages (from aiohttp<4.0.0,>=3.9.1->instructor->ragas) (2.4.0)\n",
      "Requirement already satisfied: aiosignal>=1.1.2 in c:\\users\\bakug\\anaconda3\\lib\\site-packages (from aiohttp<4.0.0,>=3.9.1->instructor->ragas) (1.2.0)\n",
      "Requirement already satisfied: attrs>=17.3.0 in c:\\users\\bakug\\anaconda3\\lib\\site-packages (from aiohttp<4.0.0,>=3.9.1->instructor->ragas) (25.3.0)\n",
      "Requirement already satisfied: frozenlist>=1.1.1 in c:\\users\\bakug\\anaconda3\\lib\\site-packages (from aiohttp<4.0.0,>=3.9.1->instructor->ragas) (1.4.0)\n",
      "Requirement already satisfied: multidict<7.0,>=4.5 in c:\\users\\bakug\\anaconda3\\lib\\site-packages (from aiohttp<4.0.0,>=3.9.1->instructor->ragas) (6.0.4)\n",
      "Requirement already satisfied: yarl<2.0,>=1.0 in c:\\users\\bakug\\anaconda3\\lib\\site-packages (from aiohttp<4.0.0,>=3.9.1->instructor->ragas) (1.11.0)\n",
      "Requirement already satisfied: idna>=2.8 in c:\\users\\bakug\\anaconda3\\lib\\site-packages (from anyio<5,>=3.5.0->openai>=1.0.0->ragas) (3.7)\n",
      "Requirement already satisfied: marshmallow<4.0.0,>=3.18.0 in c:\\users\\bakug\\anaconda3\\lib\\site-packages (from dataclasses-json<0.7,>=0.5.7->langchain-community->ragas) (3.26.1)\n",
      "Requirement already satisfied: typing-inspect<1,>=0.4.0 in c:\\users\\bakug\\anaconda3\\lib\\site-packages (from dataclasses-json<0.7,>=0.5.7->langchain-community->ragas) (0.9.0)\n",
      "Requirement already satisfied: smmap<5,>=3.0.1 in c:\\users\\bakug\\anaconda3\\lib\\site-packages (from gitdb<5,>=4.0.1->gitpython->ragas) (4.0.0)\n",
      "Requirement already satisfied: certifi in c:\\users\\bakug\\anaconda3\\lib\\site-packages (from httpx<1,>=0.23.0->openai>=1.0.0->ragas) (2025.1.31)\n",
      "Requirement already satisfied: httpcore==1.* in c:\\users\\bakug\\anaconda3\\lib\\site-packages (from httpx<1,>=0.23.0->openai>=1.0.0->ragas) (1.0.2)\n",
      "Requirement already satisfied: h11<0.15,>=0.13 in c:\\users\\bakug\\anaconda3\\lib\\site-packages (from httpcore==1.*->httpx<1,>=0.23.0->openai>=1.0.0->ragas) (0.14.0)\n",
      "Requirement already satisfied: MarkupSafe>=2.0 in c:\\users\\bakug\\anaconda3\\lib\\site-packages (from jinja2<4.0.0,>=3.1.4->instructor->ragas) (2.1.3)\n",
      "Requirement already satisfied: jsonpointer>=1.9 in c:\\users\\bakug\\anaconda3\\lib\\site-packages (from jsonpatch<2.0,>=1.33->langchain-core->ragas) (2.1)\n",
      "Requirement already satisfied: orjson<4.0.0,>=3.9.14 in c:\\users\\bakug\\anaconda3\\lib\\site-packages (from langsmith<0.4,>=0.1.17->langchain->ragas) (3.10.16)\n",
      "Requirement already satisfied: requests-toolbelt<2.0.0,>=1.0.0 in c:\\users\\bakug\\anaconda3\\lib\\site-packages (from langsmith<0.4,>=0.1.17->langchain->ragas) (1.0.0)\n",
      "Requirement already satisfied: zstandard<0.24.0,>=0.23.0 in c:\\users\\bakug\\anaconda3\\lib\\site-packages (from langsmith<0.4,>=0.1.17->langchain->ragas) (0.23.0)\n",
      "Requirement already satisfied: mdurl~=0.1 in c:\\users\\bakug\\anaconda3\\lib\\site-packages (from markdown-it-py>=2.2.0->rich->ragas) (0.1.0)\n",
      "Requirement already satisfied: python-dotenv>=0.21.0 in c:\\users\\bakug\\anaconda3\\lib\\site-packages (from pydantic-settings<3.0.0,>=2.4.0->langchain-community->ragas) (0.21.0)\n",
      "Requirement already satisfied: charset-normalizer<4,>=2 in c:\\users\\bakug\\anaconda3\\lib\\site-packages (from requests>=2.32.2->datasets->ragas) (3.3.2)\n",
      "Requirement already satisfied: urllib3<3,>=1.21.1 in c:\\users\\bakug\\anaconda3\\lib\\site-packages (from requests>=2.32.2->datasets->ragas) (2.2.3)\n",
      "Requirement already satisfied: greenlet!=0.4.17 in c:\\users\\bakug\\anaconda3\\lib\\site-packages (from SQLAlchemy<3,>=1.4->langchain->ragas) (3.0.1)\n",
      "Requirement already satisfied: python-dateutil>=2.8.2 in c:\\users\\bakug\\anaconda3\\lib\\site-packages (from pandas->datasets->ragas) (2.9.0.post0)\n",
      "Requirement already satisfied: pytz>=2020.1 in c:\\users\\bakug\\anaconda3\\lib\\site-packages (from pandas->datasets->ragas) (2024.1)\n",
      "Requirement already satisfied: tzdata>=2022.7 in c:\\users\\bakug\\anaconda3\\lib\\site-packages (from pandas->datasets->ragas) (2023.3)\n",
      "Requirement already satisfied: six>=1.5 in c:\\users\\bakug\\anaconda3\\lib\\site-packages (from python-dateutil>=2.8.2->pandas->datasets->ragas) (1.16.0)\n",
      "Requirement already satisfied: mypy-extensions>=0.3.0 in c:\\users\\bakug\\anaconda3\\lib\\site-packages (from typing-inspect<1,>=0.4.0->dataclasses-json<0.7,>=0.5.7->langchain-community->ragas) (1.0.0)\n",
      "Note: you may need to restart the kernel to use updated packages.\n"
     ]
    }
   ],
   "source": [
    "pip install ragas\n"
   ]
  },
  {
   "cell_type": "code",
   "execution_count": 13,
   "id": "01f31286-040a-4fa7-9155-763270b93eb8",
   "metadata": {},
   "outputs": [
    {
     "name": "stdout",
     "output_type": "stream",
     "text": [
      "0.3.2\n"
     ]
    }
   ],
   "source": [
    "import ragas\n",
    "print(ragas.__version__)"
   ]
  },
  {
   "cell_type": "code",
   "execution_count": 17,
   "id": "7b168f4f-6b97-4ead-9af6-3f9737d77a5e",
   "metadata": {},
   "outputs": [
    {
     "data": {
      "application/vnd.jupyter.widget-view+json": {
       "model_id": "d2c9f3cf42fe465482609b6e3b6a1e22",
       "version_major": 2,
       "version_minor": 0
      },
      "text/plain": [
       "README.md: 0.00B [00:00, ?B/s]"
      ]
     },
     "metadata": {},
     "output_type": "display_data"
    },
    {
     "name": "stderr",
     "output_type": "stream",
     "text": [
      "C:\\Users\\bakug\\anaconda3\\Lib\\site-packages\\huggingface_hub\\file_download.py:144: UserWarning: `huggingface_hub` cache-system uses symlinks by default to efficiently store duplicated files but your machine does not support them in C:\\Users\\bakug\\.cache\\huggingface\\hub\\datasets--squad. Caching files will still work but in a degraded version that might require more space on your disk. This warning can be disabled by setting the `HF_HUB_DISABLE_SYMLINKS_WARNING` environment variable. For more details, see https://huggingface.co/docs/huggingface_hub/how-to-cache#limitations.\n",
      "To support symlinks on Windows, you either need to activate Developer Mode or to run Python as an administrator. In order to activate developer mode, see this article: https://docs.microsoft.com/en-us/windows/apps/get-started/enable-your-device-for-development\n",
      "  warnings.warn(message)\n"
     ]
    },
    {
     "data": {
      "application/vnd.jupyter.widget-view+json": {
       "model_id": "baf93c454bdb49c1aab3638211ba6d84",
       "version_major": 2,
       "version_minor": 0
      },
      "text/plain": [
       "plain_text/train-00000-of-00001.parquet:   0%|          | 0.00/14.5M [00:00<?, ?B/s]"
      ]
     },
     "metadata": {},
     "output_type": "display_data"
    },
    {
     "data": {
      "application/vnd.jupyter.widget-view+json": {
       "model_id": "d709ab17eb7a46ae9981c1c9a6fcb57d",
       "version_major": 2,
       "version_minor": 0
      },
      "text/plain": [
       "plain_text/validation-00000-of-00001.par(…):   0%|          | 0.00/1.82M [00:00<?, ?B/s]"
      ]
     },
     "metadata": {},
     "output_type": "display_data"
    },
    {
     "data": {
      "application/vnd.jupyter.widget-view+json": {
       "model_id": "445d7f3ee84140c4af2664045f9e509d",
       "version_major": 2,
       "version_minor": 0
      },
      "text/plain": [
       "Generating train split:   0%|          | 0/87599 [00:00<?, ? examples/s]"
      ]
     },
     "metadata": {},
     "output_type": "display_data"
    },
    {
     "data": {
      "application/vnd.jupyter.widget-view+json": {
       "model_id": "a78bb125009b443ebd0f82103b150f4e",
       "version_major": 2,
       "version_minor": 0
      },
      "text/plain": [
       "Generating validation split:   0%|          | 0/10570 [00:00<?, ? examples/s]"
      ]
     },
     "metadata": {},
     "output_type": "display_data"
    },
    {
     "ename": "OpenAIError",
     "evalue": "The api_key client option must be set either by passing api_key to the client or by setting the OPENAI_API_KEY environment variable",
     "output_type": "error",
     "traceback": [
      "\u001b[1;31m---------------------------------------------------------------------------\u001b[0m",
      "\u001b[1;31mOpenAIError\u001b[0m                               Traceback (most recent call last)",
      "Cell \u001b[1;32mIn[17], line 32\u001b[0m\n\u001b[0;32m     29\u001b[0m ragas_dataset \u001b[38;5;241m=\u001b[39m Dataset\u001b[38;5;241m.\u001b[39mfrom_dict(data)\n\u001b[0;32m     31\u001b[0m \u001b[38;5;66;03m# 🔹 5. Evaluar con métricas\u001b[39;00m\n\u001b[1;32m---> 32\u001b[0m result \u001b[38;5;241m=\u001b[39m evaluate(\n\u001b[0;32m     33\u001b[0m     dataset\u001b[38;5;241m=\u001b[39mragas_dataset,\n\u001b[0;32m     34\u001b[0m     metrics\u001b[38;5;241m=\u001b[39m[context_precision, faithfulness, answer_correctness]\n\u001b[0;32m     35\u001b[0m )\n\u001b[0;32m     37\u001b[0m \u001b[38;5;28mprint\u001b[39m(result)\n",
      "File \u001b[1;32m~\\anaconda3\\Lib\\site-packages\\ragas\\_analytics.py:227\u001b[0m, in \u001b[0;36mtrack_was_completed.<locals>.wrapper\u001b[1;34m(*args, **kwargs)\u001b[0m\n\u001b[0;32m    224\u001b[0m \u001b[38;5;129m@wraps\u001b[39m(func)\n\u001b[0;32m    225\u001b[0m \u001b[38;5;28;01mdef\u001b[39;00m \u001b[38;5;21mwrapper\u001b[39m(\u001b[38;5;241m*\u001b[39margs: P\u001b[38;5;241m.\u001b[39margs, \u001b[38;5;241m*\u001b[39m\u001b[38;5;241m*\u001b[39mkwargs: P\u001b[38;5;241m.\u001b[39mkwargs) \u001b[38;5;241m-\u001b[39m\u001b[38;5;241m>\u001b[39m t\u001b[38;5;241m.\u001b[39mAny:\n\u001b[0;32m    226\u001b[0m     track(IsCompleteEvent(event_type\u001b[38;5;241m=\u001b[39mfunc\u001b[38;5;241m.\u001b[39m\u001b[38;5;18m__name__\u001b[39m, is_completed\u001b[38;5;241m=\u001b[39m\u001b[38;5;28;01mFalse\u001b[39;00m))\n\u001b[1;32m--> 227\u001b[0m     result \u001b[38;5;241m=\u001b[39m func(\u001b[38;5;241m*\u001b[39margs, \u001b[38;5;241m*\u001b[39m\u001b[38;5;241m*\u001b[39mkwargs)\n\u001b[0;32m    228\u001b[0m     track(IsCompleteEvent(event_type\u001b[38;5;241m=\u001b[39mfunc\u001b[38;5;241m.\u001b[39m\u001b[38;5;18m__name__\u001b[39m, is_completed\u001b[38;5;241m=\u001b[39m\u001b[38;5;28;01mTrue\u001b[39;00m))\n\u001b[0;32m    230\u001b[0m     \u001b[38;5;28;01mreturn\u001b[39;00m result\n",
      "File \u001b[1;32m~\\anaconda3\\Lib\\site-packages\\ragas\\evaluation.py:198\u001b[0m, in \u001b[0;36mevaluate\u001b[1;34m(dataset, metrics, llm, embeddings, experiment_name, callbacks, run_config, token_usage_parser, raise_exceptions, column_map, show_progress, batch_size, _run_id, _pbar)\u001b[0m\n\u001b[0;32m    196\u001b[0m \u001b[38;5;28;01mif\u001b[39;00m \u001b[38;5;28misinstance\u001b[39m(metric, MetricWithLLM) \u001b[38;5;129;01mand\u001b[39;00m metric\u001b[38;5;241m.\u001b[39mllm \u001b[38;5;129;01mis\u001b[39;00m \u001b[38;5;28;01mNone\u001b[39;00m:\n\u001b[0;32m    197\u001b[0m     \u001b[38;5;28;01mif\u001b[39;00m llm \u001b[38;5;129;01mis\u001b[39;00m \u001b[38;5;28;01mNone\u001b[39;00m:\n\u001b[1;32m--> 198\u001b[0m         llm \u001b[38;5;241m=\u001b[39m llm_factory()\n\u001b[0;32m    199\u001b[0m     metric\u001b[38;5;241m.\u001b[39mllm \u001b[38;5;241m=\u001b[39m llm\n\u001b[0;32m    200\u001b[0m     llm_changed\u001b[38;5;241m.\u001b[39mappend(i)\n",
      "File \u001b[1;32m~\\anaconda3\\Lib\\site-packages\\ragas\\llms\\base.py:416\u001b[0m, in \u001b[0;36mllm_factory\u001b[1;34m(model, run_config, default_headers, base_url)\u001b[0m\n\u001b[0;32m    413\u001b[0m     default_headers \u001b[38;5;241m=\u001b[39m helicone_config\u001b[38;5;241m.\u001b[39mdefault_headers()\n\u001b[0;32m    414\u001b[0m     base_url \u001b[38;5;241m=\u001b[39m helicone_config\u001b[38;5;241m.\u001b[39mbase_url\n\u001b[1;32m--> 416\u001b[0m openai_model \u001b[38;5;241m=\u001b[39m ChatOpenAI(\n\u001b[0;32m    417\u001b[0m     model\u001b[38;5;241m=\u001b[39mmodel, timeout\u001b[38;5;241m=\u001b[39mtimeout, default_headers\u001b[38;5;241m=\u001b[39mdefault_headers, base_url\u001b[38;5;241m=\u001b[39mbase_url\n\u001b[0;32m    418\u001b[0m )\n\u001b[0;32m    419\u001b[0m \u001b[38;5;28;01mreturn\u001b[39;00m LangchainLLMWrapper(openai_model, run_config)\n",
      "File \u001b[1;32m~\\anaconda3\\Lib\\site-packages\\langchain_core\\load\\serializable.py:130\u001b[0m, in \u001b[0;36mSerializable.__init__\u001b[1;34m(self, *args, **kwargs)\u001b[0m\n\u001b[0;32m    128\u001b[0m \u001b[38;5;28;01mdef\u001b[39;00m \u001b[38;5;21m__init__\u001b[39m(\u001b[38;5;28mself\u001b[39m, \u001b[38;5;241m*\u001b[39margs: Any, \u001b[38;5;241m*\u001b[39m\u001b[38;5;241m*\u001b[39mkwargs: Any) \u001b[38;5;241m-\u001b[39m\u001b[38;5;241m>\u001b[39m \u001b[38;5;28;01mNone\u001b[39;00m:\n\u001b[0;32m    129\u001b[0m \u001b[38;5;250m    \u001b[39m\u001b[38;5;124;03m\"\"\"\"\"\"\u001b[39;00m  \u001b[38;5;66;03m# noqa: D419\u001b[39;00m\n\u001b[1;32m--> 130\u001b[0m     \u001b[38;5;28msuper\u001b[39m()\u001b[38;5;241m.\u001b[39m\u001b[38;5;21m__init__\u001b[39m(\u001b[38;5;241m*\u001b[39margs, \u001b[38;5;241m*\u001b[39m\u001b[38;5;241m*\u001b[39mkwargs)\n",
      "    \u001b[1;31m[... skipping hidden 1 frame]\u001b[0m\n",
      "File \u001b[1;32m~\\anaconda3\\Lib\\site-packages\\langchain_openai\\chat_models\\base.py:622\u001b[0m, in \u001b[0;36mBaseChatOpenAI.validate_environment\u001b[1;34m(self)\u001b[0m\n\u001b[0;32m    618\u001b[0m         \u001b[38;5;28mself\u001b[39m\u001b[38;5;241m.\u001b[39mhttp_client \u001b[38;5;241m=\u001b[39m httpx\u001b[38;5;241m.\u001b[39mClient(\n\u001b[0;32m    619\u001b[0m             proxy\u001b[38;5;241m=\u001b[39m\u001b[38;5;28mself\u001b[39m\u001b[38;5;241m.\u001b[39mopenai_proxy, verify\u001b[38;5;241m=\u001b[39mglobal_ssl_context\n\u001b[0;32m    620\u001b[0m         )\n\u001b[0;32m    621\u001b[0m     sync_specific \u001b[38;5;241m=\u001b[39m {\u001b[38;5;124m\"\u001b[39m\u001b[38;5;124mhttp_client\u001b[39m\u001b[38;5;124m\"\u001b[39m: \u001b[38;5;28mself\u001b[39m\u001b[38;5;241m.\u001b[39mhttp_client}\n\u001b[1;32m--> 622\u001b[0m     \u001b[38;5;28mself\u001b[39m\u001b[38;5;241m.\u001b[39mroot_client \u001b[38;5;241m=\u001b[39m openai\u001b[38;5;241m.\u001b[39mOpenAI(\u001b[38;5;241m*\u001b[39m\u001b[38;5;241m*\u001b[39mclient_params, \u001b[38;5;241m*\u001b[39m\u001b[38;5;241m*\u001b[39msync_specific)  \u001b[38;5;66;03m# type: ignore[arg-type]\u001b[39;00m\n\u001b[0;32m    623\u001b[0m     \u001b[38;5;28mself\u001b[39m\u001b[38;5;241m.\u001b[39mclient \u001b[38;5;241m=\u001b[39m \u001b[38;5;28mself\u001b[39m\u001b[38;5;241m.\u001b[39mroot_client\u001b[38;5;241m.\u001b[39mchat\u001b[38;5;241m.\u001b[39mcompletions\n\u001b[0;32m    624\u001b[0m \u001b[38;5;28;01mif\u001b[39;00m \u001b[38;5;129;01mnot\u001b[39;00m \u001b[38;5;28mself\u001b[39m\u001b[38;5;241m.\u001b[39masync_client:\n",
      "File \u001b[1;32m~\\anaconda3\\Lib\\site-packages\\openai\\_client.py:116\u001b[0m, in \u001b[0;36mOpenAI.__init__\u001b[1;34m(self, api_key, organization, project, base_url, websocket_base_url, timeout, max_retries, default_headers, default_query, http_client, _strict_response_validation)\u001b[0m\n\u001b[0;32m    114\u001b[0m     api_key \u001b[38;5;241m=\u001b[39m os\u001b[38;5;241m.\u001b[39menviron\u001b[38;5;241m.\u001b[39mget(\u001b[38;5;124m\"\u001b[39m\u001b[38;5;124mOPENAI_API_KEY\u001b[39m\u001b[38;5;124m\"\u001b[39m)\n\u001b[0;32m    115\u001b[0m \u001b[38;5;28;01mif\u001b[39;00m api_key \u001b[38;5;129;01mis\u001b[39;00m \u001b[38;5;28;01mNone\u001b[39;00m:\n\u001b[1;32m--> 116\u001b[0m     \u001b[38;5;28;01mraise\u001b[39;00m OpenAIError(\n\u001b[0;32m    117\u001b[0m         \u001b[38;5;124m\"\u001b[39m\u001b[38;5;124mThe api_key client option must be set either by passing api_key to the client or by setting the OPENAI_API_KEY environment variable\u001b[39m\u001b[38;5;124m\"\u001b[39m\n\u001b[0;32m    118\u001b[0m     )\n\u001b[0;32m    119\u001b[0m \u001b[38;5;28mself\u001b[39m\u001b[38;5;241m.\u001b[39mapi_key \u001b[38;5;241m=\u001b[39m api_key\n\u001b[0;32m    121\u001b[0m \u001b[38;5;28;01mif\u001b[39;00m organization \u001b[38;5;129;01mis\u001b[39;00m \u001b[38;5;28;01mNone\u001b[39;00m:\n",
      "\u001b[1;31mOpenAIError\u001b[0m: The api_key client option must be set either by passing api_key to the client or by setting the OPENAI_API_KEY environment variable"
     ]
    }
   ],
   "source": [
    "from datasets import load_dataset, Dataset\n",
    "from ragas.metrics import context_precision, faithfulness, answer_correctness\n",
    "from ragas.evaluation import evaluate\n",
    "import pandas as pd\n",
    "\n",
    "dataset = load_dataset(\"squad\")\n",
    "sample_data = dataset[\"validation\"].select(range(50)) \n",
    "\n",
    "data = {\n",
    "    \"question\": [],\n",
    "    \"answer\": [],\n",
    "    \"contexts\": [],\n",
    "    \"ground_truth\": []\n",
    "}\n",
    "\n",
    "for item in sample_data:\n",
    "    data[\"question\"].append(item[\"question\"])\n",
    "    data[\"ground_truth\"].append(item[\"answers\"][\"text\"][0] if item[\"answers\"][\"text\"] else \"\")\n",
    "    data[\"contexts\"].append([item[\"context\"]])\n",
    "    data[\"answer\"].append(item[\"answers\"][\"text\"][0] if item[\"answers\"][\"text\"] else \"\")\n",
    "\n",
    "ragas_dataset = Dataset.from_dict(data)\n",
    "\n",
    "result = evaluate(\n",
    "    dataset=ragas_dataset,\n",
    "    metrics=[context_precision, faithfulness, answer_correctness]\n",
    ")\n",
    "\n",
    "print(result)"
   ]
  },
  {
   "cell_type": "code",
   "execution_count": 11,
   "id": "34f23613-01c3-4580-a636-fdce85cc1cbf",
   "metadata": {},
   "outputs": [
    {
     "ename": "ImportError",
     "evalue": "cannot import name 'LLMContextRelevance' from 'ragas.metrics' (C:\\Users\\bakug\\anaconda3\\Lib\\site-packages\\ragas\\metrics\\__init__.py)",
     "output_type": "error",
     "traceback": [
      "\u001b[1;31m---------------------------------------------------------------------------\u001b[0m",
      "\u001b[1;31mImportError\u001b[0m                               Traceback (most recent call last)",
      "Cell \u001b[1;32mIn[11], line 10\u001b[0m\n\u001b[0;32m      7\u001b[0m \u001b[38;5;28;01mimport\u001b[39;00m \u001b[38;5;21;01mpandas\u001b[39;00m \u001b[38;5;28;01mas\u001b[39;00m \u001b[38;5;21;01mpd\u001b[39;00m\n\u001b[0;32m      9\u001b[0m \u001b[38;5;66;03m# 🔹 3. Importar Ragas actualizado\u001b[39;00m\n\u001b[1;32m---> 10\u001b[0m \u001b[38;5;28;01mfrom\u001b[39;00m \u001b[38;5;21;01mragas\u001b[39;00m\u001b[38;5;21;01m.\u001b[39;00m\u001b[38;5;21;01mmetrics\u001b[39;00m \u001b[38;5;28;01mimport\u001b[39;00m LLMContextRelevance, LLMAnswerRelevance, LLMFaithfulness\n\u001b[0;32m     11\u001b[0m \u001b[38;5;28;01mfrom\u001b[39;00m \u001b[38;5;21;01mragas\u001b[39;00m\u001b[38;5;21;01m.\u001b[39;00m\u001b[38;5;21;01mevaluation\u001b[39;00m \u001b[38;5;28;01mimport\u001b[39;00m evaluate\n\u001b[0;32m     13\u001b[0m \u001b[38;5;66;03m# 🔹 4. Cargar dataset SQuAD\u001b[39;00m\n",
      "\u001b[1;31mImportError\u001b[0m: cannot import name 'LLMContextRelevance' from 'ragas.metrics' (C:\\Users\\bakug\\anaconda3\\Lib\\site-packages\\ragas\\metrics\\__init__.py)"
     ]
    }
   ],
   "source": [
    "import os\n",
    "os.environ[\"GIT_PYTHON_REFRESH\"] = \"quiet\"\n",
    "\n",
    "from datasets import load_dataset, Dataset\n",
    "import pandas as pd\n",
    "\n",
    "from ragas.metrics import LLMContextRelevance, LLMAnswerRelevance, LLMFaithfulness\n",
    "from ragas.evaluation import evaluate\n",
    "\n",
    "dataset = load_dataset(\"squad\", split=\"validation\")\n",
    "\n",
    "sample_data = dataset.shuffle(seed=42).select(range(50))\n",
    "\n",
    "df = pd.DataFrame([{\n",
    "    \"question\": item[\"question\"],\n",
    "    \"ground_truth\": item[\"answers\"][\"text\"][0] if len(item[\"answers\"][\"text\"]) > 0 else \"\",\n",
    "    \"contexts\": [item[\"context\"]],\n",
    "    \"answer\": item[\"answers\"][\"text\"][0] if len(item[\"answers\"][\"text\"]) > 0 else \"\"\n",
    "} for item in sample_data])\n",
    "\n",
    "print(\"Ejemplo de dataset preparado:\")\n",
    "print(df.head())\n",
    "\n",
    "ragas_dataset = Dataset.from_pandas(df)\n",
    "\n",
    "metrics = [\n",
    "    LLMContextRelevance(),\n",
    "    LLMAnswerRelevance(),\n",
    "    LLMFaithfulness()\n",
    "]\n",
    "\n",
    "result = evaluate(ragas_dataset, metrics=metrics)\n",
    "\n",
    "print(\"\\nResultados de la evaluación:\")\n",
    "print(result)"
   ]
  },
  {
   "cell_type": "code",
   "execution_count": null,
   "id": "f9f53537-a8a6-49be-8d9b-0d198ca2870e",
   "metadata": {},
   "outputs": [],
   "source": []
  }
 ],
 "metadata": {
  "kernelspec": {
   "display_name": "Python [conda env:base] *",
   "language": "python",
   "name": "conda-base-py"
  },
  "language_info": {
   "codemirror_mode": {
    "name": "ipython",
    "version": 3
   },
   "file_extension": ".py",
   "mimetype": "text/x-python",
   "name": "python",
   "nbconvert_exporter": "python",
   "pygments_lexer": "ipython3",
   "version": "3.12.7"
  }
 },
 "nbformat": 4,
 "nbformat_minor": 5
}
